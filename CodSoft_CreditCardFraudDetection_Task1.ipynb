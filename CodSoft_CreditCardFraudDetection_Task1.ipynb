{
 "cells": [
  {
   "cell_type": "code",
   "execution_count": 56,
   "id": "ef05ddfb-0ea5-423f-b9c5-0e5fd62b347f",
   "metadata": {},
   "outputs": [],
   "source": [
    "import numpy as np\n",
    "import pandas as pd\n",
    "import matplotlib.pyplot as plt\n",
    "import seaborn as sns\n",
    "from matplotlib import gridspec\n",
    "from sklearn import preprocessing\n",
    "from sklearn.model_selection import train_test_split\n",
    "from sklearn.linear_model import LogisticRegression\n",
    "from sklearn.metrics import accuracy_score\n",
    "from sklearn.ensemble import RandomForestClassifier\n",
    "from sklearn.metrics import precision_score"
   ]
  },
  {
   "cell_type": "code",
   "execution_count": 3,
   "id": "b94c8184-a090-45a0-a44a-691ebdd8e689",
   "metadata": {},
   "outputs": [],
   "source": [
    "CreditData= pd.read_csv(r\"C:\\Users\\anshi\\OneDrive\\Desktop\\Python Jupyter\\CodSoft Tasks\\fraudTest.csv\")"
   ]
  },
  {
   "cell_type": "code",
   "execution_count": 4,
   "id": "eac44761-150b-4baa-9e80-d4aeb948a5f0",
   "metadata": {},
   "outputs": [
    {
     "data": {
      "text/html": [
       "<div>\n",
       "<style scoped>\n",
       "    .dataframe tbody tr th:only-of-type {\n",
       "        vertical-align: middle;\n",
       "    }\n",
       "\n",
       "    .dataframe tbody tr th {\n",
       "        vertical-align: top;\n",
       "    }\n",
       "\n",
       "    .dataframe thead th {\n",
       "        text-align: right;\n",
       "    }\n",
       "</style>\n",
       "<table border=\"1\" class=\"dataframe\">\n",
       "  <thead>\n",
       "    <tr style=\"text-align: right;\">\n",
       "      <th></th>\n",
       "      <th>Unnamed: 0</th>\n",
       "      <th>trans_date_trans_time</th>\n",
       "      <th>cc_num</th>\n",
       "      <th>merchant</th>\n",
       "      <th>category</th>\n",
       "      <th>amt</th>\n",
       "      <th>first</th>\n",
       "      <th>last</th>\n",
       "      <th>gender</th>\n",
       "      <th>street</th>\n",
       "      <th>...</th>\n",
       "      <th>lat</th>\n",
       "      <th>long</th>\n",
       "      <th>city_pop</th>\n",
       "      <th>job</th>\n",
       "      <th>dob</th>\n",
       "      <th>trans_num</th>\n",
       "      <th>unix_time</th>\n",
       "      <th>merch_lat</th>\n",
       "      <th>merch_long</th>\n",
       "      <th>is_fraud</th>\n",
       "    </tr>\n",
       "  </thead>\n",
       "  <tbody>\n",
       "    <tr>\n",
       "      <th>0</th>\n",
       "      <td>0</td>\n",
       "      <td>2020-06-21 12:14:25</td>\n",
       "      <td>2291163933867244</td>\n",
       "      <td>fraud_Kirlin and Sons</td>\n",
       "      <td>personal_care</td>\n",
       "      <td>2.86</td>\n",
       "      <td>Jeff</td>\n",
       "      <td>Elliott</td>\n",
       "      <td>M</td>\n",
       "      <td>351 Darlene Green</td>\n",
       "      <td>...</td>\n",
       "      <td>33.9659</td>\n",
       "      <td>-80.9355</td>\n",
       "      <td>333497</td>\n",
       "      <td>Mechanical engineer</td>\n",
       "      <td>1968-03-19</td>\n",
       "      <td>2da90c7d74bd46a0caf3777415b3ebd3</td>\n",
       "      <td>1371816865</td>\n",
       "      <td>33.986391</td>\n",
       "      <td>-81.200714</td>\n",
       "      <td>0</td>\n",
       "    </tr>\n",
       "    <tr>\n",
       "      <th>1</th>\n",
       "      <td>1</td>\n",
       "      <td>2020-06-21 12:14:33</td>\n",
       "      <td>3573030041201292</td>\n",
       "      <td>fraud_Sporer-Keebler</td>\n",
       "      <td>personal_care</td>\n",
       "      <td>29.84</td>\n",
       "      <td>Joanne</td>\n",
       "      <td>Williams</td>\n",
       "      <td>F</td>\n",
       "      <td>3638 Marsh Union</td>\n",
       "      <td>...</td>\n",
       "      <td>40.3207</td>\n",
       "      <td>-110.4360</td>\n",
       "      <td>302</td>\n",
       "      <td>Sales professional, IT</td>\n",
       "      <td>1990-01-17</td>\n",
       "      <td>324cc204407e99f51b0d6ca0055005e7</td>\n",
       "      <td>1371816873</td>\n",
       "      <td>39.450498</td>\n",
       "      <td>-109.960431</td>\n",
       "      <td>0</td>\n",
       "    </tr>\n",
       "    <tr>\n",
       "      <th>2</th>\n",
       "      <td>2</td>\n",
       "      <td>2020-06-21 12:14:53</td>\n",
       "      <td>3598215285024754</td>\n",
       "      <td>fraud_Swaniawski, Nitzsche and Welch</td>\n",
       "      <td>health_fitness</td>\n",
       "      <td>41.28</td>\n",
       "      <td>Ashley</td>\n",
       "      <td>Lopez</td>\n",
       "      <td>F</td>\n",
       "      <td>9333 Valentine Point</td>\n",
       "      <td>...</td>\n",
       "      <td>40.6729</td>\n",
       "      <td>-73.5365</td>\n",
       "      <td>34496</td>\n",
       "      <td>Librarian, public</td>\n",
       "      <td>1970-10-21</td>\n",
       "      <td>c81755dbbbea9d5c77f094348a7579be</td>\n",
       "      <td>1371816893</td>\n",
       "      <td>40.495810</td>\n",
       "      <td>-74.196111</td>\n",
       "      <td>0</td>\n",
       "    </tr>\n",
       "    <tr>\n",
       "      <th>3</th>\n",
       "      <td>3</td>\n",
       "      <td>2020-06-21 12:15:15</td>\n",
       "      <td>3591919803438423</td>\n",
       "      <td>fraud_Haley Group</td>\n",
       "      <td>misc_pos</td>\n",
       "      <td>60.05</td>\n",
       "      <td>Brian</td>\n",
       "      <td>Williams</td>\n",
       "      <td>M</td>\n",
       "      <td>32941 Krystal Mill Apt. 552</td>\n",
       "      <td>...</td>\n",
       "      <td>28.5697</td>\n",
       "      <td>-80.8191</td>\n",
       "      <td>54767</td>\n",
       "      <td>Set designer</td>\n",
       "      <td>1987-07-25</td>\n",
       "      <td>2159175b9efe66dc301f149d3d5abf8c</td>\n",
       "      <td>1371816915</td>\n",
       "      <td>28.812398</td>\n",
       "      <td>-80.883061</td>\n",
       "      <td>0</td>\n",
       "    </tr>\n",
       "    <tr>\n",
       "      <th>4</th>\n",
       "      <td>4</td>\n",
       "      <td>2020-06-21 12:15:17</td>\n",
       "      <td>3526826139003047</td>\n",
       "      <td>fraud_Johnston-Casper</td>\n",
       "      <td>travel</td>\n",
       "      <td>3.19</td>\n",
       "      <td>Nathan</td>\n",
       "      <td>Massey</td>\n",
       "      <td>M</td>\n",
       "      <td>5783 Evan Roads Apt. 465</td>\n",
       "      <td>...</td>\n",
       "      <td>44.2529</td>\n",
       "      <td>-85.0170</td>\n",
       "      <td>1126</td>\n",
       "      <td>Furniture designer</td>\n",
       "      <td>1955-07-06</td>\n",
       "      <td>57ff021bd3f328f8738bb535c302a31b</td>\n",
       "      <td>1371816917</td>\n",
       "      <td>44.959148</td>\n",
       "      <td>-85.884734</td>\n",
       "      <td>0</td>\n",
       "    </tr>\n",
       "  </tbody>\n",
       "</table>\n",
       "<p>5 rows × 23 columns</p>\n",
       "</div>"
      ],
      "text/plain": [
       "   Unnamed: 0 trans_date_trans_time            cc_num  \\\n",
       "0           0   2020-06-21 12:14:25  2291163933867244   \n",
       "1           1   2020-06-21 12:14:33  3573030041201292   \n",
       "2           2   2020-06-21 12:14:53  3598215285024754   \n",
       "3           3   2020-06-21 12:15:15  3591919803438423   \n",
       "4           4   2020-06-21 12:15:17  3526826139003047   \n",
       "\n",
       "                               merchant        category    amt   first  \\\n",
       "0                 fraud_Kirlin and Sons   personal_care   2.86    Jeff   \n",
       "1                  fraud_Sporer-Keebler   personal_care  29.84  Joanne   \n",
       "2  fraud_Swaniawski, Nitzsche and Welch  health_fitness  41.28  Ashley   \n",
       "3                     fraud_Haley Group        misc_pos  60.05   Brian   \n",
       "4                 fraud_Johnston-Casper          travel   3.19  Nathan   \n",
       "\n",
       "       last gender                       street  ...      lat      long  \\\n",
       "0   Elliott      M            351 Darlene Green  ...  33.9659  -80.9355   \n",
       "1  Williams      F             3638 Marsh Union  ...  40.3207 -110.4360   \n",
       "2     Lopez      F         9333 Valentine Point  ...  40.6729  -73.5365   \n",
       "3  Williams      M  32941 Krystal Mill Apt. 552  ...  28.5697  -80.8191   \n",
       "4    Massey      M     5783 Evan Roads Apt. 465  ...  44.2529  -85.0170   \n",
       "\n",
       "   city_pop                     job         dob  \\\n",
       "0    333497     Mechanical engineer  1968-03-19   \n",
       "1       302  Sales professional, IT  1990-01-17   \n",
       "2     34496       Librarian, public  1970-10-21   \n",
       "3     54767            Set designer  1987-07-25   \n",
       "4      1126      Furniture designer  1955-07-06   \n",
       "\n",
       "                          trans_num   unix_time  merch_lat  merch_long  \\\n",
       "0  2da90c7d74bd46a0caf3777415b3ebd3  1371816865  33.986391  -81.200714   \n",
       "1  324cc204407e99f51b0d6ca0055005e7  1371816873  39.450498 -109.960431   \n",
       "2  c81755dbbbea9d5c77f094348a7579be  1371816893  40.495810  -74.196111   \n",
       "3  2159175b9efe66dc301f149d3d5abf8c  1371816915  28.812398  -80.883061   \n",
       "4  57ff021bd3f328f8738bb535c302a31b  1371816917  44.959148  -85.884734   \n",
       "\n",
       "   is_fraud  \n",
       "0         0  \n",
       "1         0  \n",
       "2         0  \n",
       "3         0  \n",
       "4         0  \n",
       "\n",
       "[5 rows x 23 columns]"
      ]
     },
     "execution_count": 4,
     "metadata": {},
     "output_type": "execute_result"
    }
   ],
   "source": [
    "CreditData.head()"
   ]
  },
  {
   "cell_type": "code",
   "execution_count": 5,
   "id": "ce472070-38c8-4466-8aaa-64c304fe8693",
   "metadata": {},
   "outputs": [
    {
     "name": "stdout",
     "output_type": "stream",
     "text": [
      "(555719, 23)\n"
     ]
    }
   ],
   "source": [
    "print(CreditData.shape)"
   ]
  },
  {
   "cell_type": "code",
   "execution_count": 6,
   "id": "2365c483-7c2d-4afa-ab33-670aad8f74ed",
   "metadata": {},
   "outputs": [
    {
     "name": "stdout",
     "output_type": "stream",
     "text": [
      "          Unnamed: 0        cc_num            amt            zip  \\\n",
      "count  555719.000000  5.557190e+05  555719.000000  555719.000000   \n",
      "mean   277859.000000  4.178387e+17      69.392810   48842.628015   \n",
      "std    160422.401459  1.309837e+18     156.745941   26855.283328   \n",
      "min         0.000000  6.041621e+10       1.000000    1257.000000   \n",
      "25%    138929.500000  1.800429e+14       9.630000   26292.000000   \n",
      "50%    277859.000000  3.521417e+15      47.290000   48174.000000   \n",
      "75%    416788.500000  4.635331e+15      83.010000   72011.000000   \n",
      "max    555718.000000  4.992346e+18   22768.110000   99921.000000   \n",
      "\n",
      "                 lat           long      city_pop     unix_time  \\\n",
      "count  555719.000000  555719.000000  5.557190e+05  5.557190e+05   \n",
      "mean       38.543253     -90.231325  8.822189e+04  1.380679e+09   \n",
      "std         5.061336      13.721780  3.003909e+05  5.201104e+06   \n",
      "min        20.027100    -165.672300  2.300000e+01  1.371817e+09   \n",
      "25%        34.668900     -96.798000  7.410000e+02  1.376029e+09   \n",
      "50%        39.371600     -87.476900  2.408000e+03  1.380762e+09   \n",
      "75%        41.894800     -80.175200  1.968500e+04  1.385867e+09   \n",
      "max        65.689900     -67.950300  2.906700e+06  1.388534e+09   \n",
      "\n",
      "           merch_lat     merch_long       is_fraud  \n",
      "count  555719.000000  555719.000000  555719.000000  \n",
      "mean       38.542798     -90.231380       0.003860  \n",
      "std         5.095829      13.733071       0.062008  \n",
      "min        19.027422    -166.671575       0.000000  \n",
      "25%        34.755302     -96.905129       0.000000  \n",
      "50%        39.376593     -87.445204       0.000000  \n",
      "75%        41.954163     -80.264637       0.000000  \n",
      "max        66.679297     -66.952026       1.000000  \n"
     ]
    }
   ],
   "source": [
    "print(CreditData.describe())"
   ]
  },
  {
   "cell_type": "code",
   "execution_count": 7,
   "id": "75d0abe1-f0e0-4a63-a0c1-62342968d920",
   "metadata": {},
   "outputs": [
    {
     "name": "stdout",
     "output_type": "stream",
     "text": [
      "<class 'pandas.core.frame.DataFrame'>\n",
      "RangeIndex: 555719 entries, 0 to 555718\n",
      "Data columns (total 23 columns):\n",
      " #   Column                 Non-Null Count   Dtype  \n",
      "---  ------                 --------------   -----  \n",
      " 0   Unnamed: 0             555719 non-null  int64  \n",
      " 1   trans_date_trans_time  555719 non-null  object \n",
      " 2   cc_num                 555719 non-null  int64  \n",
      " 3   merchant               555719 non-null  object \n",
      " 4   category               555719 non-null  object \n",
      " 5   amt                    555719 non-null  float64\n",
      " 6   first                  555719 non-null  object \n",
      " 7   last                   555719 non-null  object \n",
      " 8   gender                 555719 non-null  object \n",
      " 9   street                 555719 non-null  object \n",
      " 10  city                   555719 non-null  object \n",
      " 11  state                  555719 non-null  object \n",
      " 12  zip                    555719 non-null  int64  \n",
      " 13  lat                    555719 non-null  float64\n",
      " 14  long                   555719 non-null  float64\n",
      " 15  city_pop               555719 non-null  int64  \n",
      " 16  job                    555719 non-null  object \n",
      " 17  dob                    555719 non-null  object \n",
      " 18  trans_num              555719 non-null  object \n",
      " 19  unix_time              555719 non-null  int64  \n",
      " 20  merch_lat              555719 non-null  float64\n",
      " 21  merch_long             555719 non-null  float64\n",
      " 22  is_fraud               555719 non-null  int64  \n",
      "dtypes: float64(5), int64(6), object(12)\n",
      "memory usage: 97.5+ MB\n"
     ]
    }
   ],
   "source": [
    "CreditData.info()"
   ]
  },
  {
   "cell_type": "code",
   "execution_count": 8,
   "id": "d68f19bc-b2d0-4e4b-800f-c1b8d4c8b26b",
   "metadata": {},
   "outputs": [
    {
     "data": {
      "text/plain": [
       "Unnamed: 0               0\n",
       "trans_date_trans_time    0\n",
       "cc_num                   0\n",
       "merchant                 0\n",
       "category                 0\n",
       "amt                      0\n",
       "first                    0\n",
       "last                     0\n",
       "gender                   0\n",
       "street                   0\n",
       "city                     0\n",
       "state                    0\n",
       "zip                      0\n",
       "lat                      0\n",
       "long                     0\n",
       "city_pop                 0\n",
       "job                      0\n",
       "dob                      0\n",
       "trans_num                0\n",
       "unix_time                0\n",
       "merch_lat                0\n",
       "merch_long               0\n",
       "is_fraud                 0\n",
       "dtype: int64"
      ]
     },
     "execution_count": 8,
     "metadata": {},
     "output_type": "execute_result"
    }
   ],
   "source": [
    "CreditData.isnull().sum()"
   ]
  },
  {
   "cell_type": "code",
   "execution_count": 9,
   "id": "bd143903-bfae-4a6a-9487-3af716cc59d8",
   "metadata": {},
   "outputs": [
    {
     "data": {
      "text/plain": [
       "is_fraud\n",
       "0    553574\n",
       "1      2145\n",
       "Name: count, dtype: int64"
      ]
     },
     "execution_count": 9,
     "metadata": {},
     "output_type": "execute_result"
    }
   ],
   "source": [
    "CreditData['is_fraud'].value_counts() # 0-Legit Transactions and 1-Fraud Transactions."
   ]
  },
  {
   "cell_type": "code",
   "execution_count": 10,
   "id": "e27b0d26-2ebe-419f-88cc-7964f5d35da3",
   "metadata": {},
   "outputs": [],
   "source": [
    "# Seperating the data for analysis\n",
    "fraud = CreditData[CreditData['is_fraud'] == 1]\n",
    "valid = CreditData[CreditData['is_fraud'] == 0]"
   ]
  },
  {
   "cell_type": "code",
   "execution_count": 11,
   "id": "737acae9-64ed-4358-818e-60fe1d663838",
   "metadata": {},
   "outputs": [
    {
     "name": "stdout",
     "output_type": "stream",
     "text": [
      "(2145, 23)\n"
     ]
    }
   ],
   "source": [
    "print(fraud.shape)"
   ]
  },
  {
   "cell_type": "code",
   "execution_count": 12,
   "id": "c0b8d95a-4891-42ee-9cb6-44cdcb0a084d",
   "metadata": {},
   "outputs": [
    {
     "name": "stdout",
     "output_type": "stream",
     "text": [
      "(553574, 23)\n"
     ]
    }
   ],
   "source": [
    "print(valid.shape)"
   ]
  },
  {
   "cell_type": "code",
   "execution_count": 13,
   "id": "bf38597c-e9ae-4039-a43d-d1095dfc82da",
   "metadata": {},
   "outputs": [
    {
     "data": {
      "text/plain": [
       "count    553574.000000\n",
       "mean         67.614408\n",
       "std         152.471931\n",
       "min           1.000000\n",
       "25%           9.600000\n",
       "50%          47.150000\n",
       "75%          82.620000\n",
       "max       22768.110000\n",
       "Name: amt, dtype: float64"
      ]
     },
     "execution_count": 13,
     "metadata": {},
     "output_type": "execute_result"
    }
   ],
   "source": [
    "# Statistical measures of the data\n",
    "valid.amt.describe()"
   ]
  },
  {
   "cell_type": "code",
   "execution_count": 14,
   "id": "8f1daaa3-04f8-4065-9724-ef9c7c9772ff",
   "metadata": {},
   "outputs": [
    {
     "data": {
      "text/plain": [
       "count    2145.000000\n",
       "mean      528.356494\n",
       "std       392.747594\n",
       "min         1.780000\n",
       "25%       214.510000\n",
       "50%       371.940000\n",
       "75%       907.770000\n",
       "max      1320.920000\n",
       "Name: amt, dtype: float64"
      ]
     },
     "execution_count": 14,
     "metadata": {},
     "output_type": "execute_result"
    }
   ],
   "source": [
    "fraud.amt.describe()"
   ]
  },
  {
   "cell_type": "code",
   "execution_count": 15,
   "id": "5241c87f-8375-4c52-9d4d-b3c634b6e351",
   "metadata": {},
   "outputs": [
    {
     "data": {
      "text/plain": [
       "0         M\n",
       "1         F\n",
       "2         F\n",
       "3         M\n",
       "4         M\n",
       "         ..\n",
       "555714    M\n",
       "555715    M\n",
       "555716    F\n",
       "555717    M\n",
       "555718    M\n",
       "Name: gender, Length: 555719, dtype: object"
      ]
     },
     "execution_count": 15,
     "metadata": {},
     "output_type": "execute_result"
    }
   ],
   "source": [
    "CreditData.pop('gender')"
   ]
  },
  {
   "cell_type": "code",
   "execution_count": 16,
   "id": "3483d29f-ee57-4d76-8d13-92f59e0dfe96",
   "metadata": {},
   "outputs": [
    {
     "data": {
      "text/plain": [
       "0                   351 Darlene Green\n",
       "1                    3638 Marsh Union\n",
       "2                9333 Valentine Point\n",
       "3         32941 Krystal Mill Apt. 552\n",
       "4            5783 Evan Roads Apt. 465\n",
       "                     ...             \n",
       "555714            558 Michael Estates\n",
       "555715            572 Davis Mountains\n",
       "555716     144 Evans Islands Apt. 683\n",
       "555717     7020 Doyle Stream Apt. 951\n",
       "555718       830 Myers Plaza Apt. 384\n",
       "Name: street, Length: 555719, dtype: object"
      ]
     },
     "execution_count": 16,
     "metadata": {},
     "output_type": "execute_result"
    }
   ],
   "source": [
    "CreditData.pop('street')"
   ]
  },
  {
   "cell_type": "code",
   "execution_count": 17,
   "id": "83e69165-8511-4bb4-860c-db686de37a26",
   "metadata": {},
   "outputs": [
    {
     "data": {
      "text/plain": [
       "0             Columbia\n",
       "1              Altonah\n",
       "2             Bellmore\n",
       "3           Titusville\n",
       "4             Falmouth\n",
       "              ...     \n",
       "555714           Luray\n",
       "555715    Lake Jackson\n",
       "555716         Burbank\n",
       "555717            Mesa\n",
       "555718          Edmond\n",
       "Name: city, Length: 555719, dtype: object"
      ]
     },
     "execution_count": 17,
     "metadata": {},
     "output_type": "execute_result"
    }
   ],
   "source": [
    "CreditData.pop('city')"
   ]
  },
  {
   "cell_type": "code",
   "execution_count": 18,
   "id": "fa68923b-4230-488b-a779-19a4ef5bf8f4",
   "metadata": {},
   "outputs": [
    {
     "data": {
      "text/plain": [
       "0            Mechanical engineer\n",
       "1         Sales professional, IT\n",
       "2              Librarian, public\n",
       "3                   Set designer\n",
       "4             Furniture designer\n",
       "                   ...          \n",
       "555714              Town planner\n",
       "555715            Futures trader\n",
       "555716                  Musician\n",
       "555717              Cartographer\n",
       "555718               Media buyer\n",
       "Name: job, Length: 555719, dtype: object"
      ]
     },
     "execution_count": 18,
     "metadata": {},
     "output_type": "execute_result"
    }
   ],
   "source": [
    "CreditData.pop('job')"
   ]
  },
  {
   "cell_type": "code",
   "execution_count": 19,
   "id": "cc825fb0-b75f-4a64-a9d6-b6da84425669",
   "metadata": {},
   "outputs": [
    {
     "data": {
      "text/plain": [
       "0         2020-06-21 12:14:25\n",
       "1         2020-06-21 12:14:33\n",
       "2         2020-06-21 12:14:53\n",
       "3         2020-06-21 12:15:15\n",
       "4         2020-06-21 12:15:17\n",
       "                 ...         \n",
       "555714    2020-12-31 23:59:07\n",
       "555715    2020-12-31 23:59:09\n",
       "555716    2020-12-31 23:59:15\n",
       "555717    2020-12-31 23:59:24\n",
       "555718    2020-12-31 23:59:34\n",
       "Name: trans_date_trans_time, Length: 555719, dtype: object"
      ]
     },
     "execution_count": 19,
     "metadata": {},
     "output_type": "execute_result"
    }
   ],
   "source": [
    "CreditData.pop('trans_date_trans_time')"
   ]
  },
  {
   "cell_type": "code",
   "execution_count": 20,
   "id": "797bc991-5fb7-451a-8edb-8c039673eccf",
   "metadata": {},
   "outputs": [
    {
     "data": {
      "text/plain": [
       "0         1968-03-19\n",
       "1         1990-01-17\n",
       "2         1970-10-21\n",
       "3         1987-07-25\n",
       "4         1955-07-06\n",
       "             ...    \n",
       "555714    1966-02-13\n",
       "555715    1999-12-27\n",
       "555716    1981-11-29\n",
       "555717    1965-12-15\n",
       "555718    1993-05-10\n",
       "Name: dob, Length: 555719, dtype: object"
      ]
     },
     "execution_count": 20,
     "metadata": {},
     "output_type": "execute_result"
    }
   ],
   "source": [
    "CreditData.pop('dob')"
   ]
  },
  {
   "cell_type": "code",
   "execution_count": 21,
   "id": "a38e1abd-1b97-483a-a0f1-73cc09c5a3ab",
   "metadata": {},
   "outputs": [
    {
     "data": {
      "text/plain": [
       "0         2da90c7d74bd46a0caf3777415b3ebd3\n",
       "1         324cc204407e99f51b0d6ca0055005e7\n",
       "2         c81755dbbbea9d5c77f094348a7579be\n",
       "3         2159175b9efe66dc301f149d3d5abf8c\n",
       "4         57ff021bd3f328f8738bb535c302a31b\n",
       "                        ...               \n",
       "555714    9b1f753c79894c9f4b71f04581835ada\n",
       "555715    2090647dac2c89a1d86c514c427f5b91\n",
       "555716    6c5b7c8add471975aa0fec023b2e8408\n",
       "555717    14392d723bb7737606b2700ac791b7aa\n",
       "555718    1765bb45b3aa3224b4cdcb6e7a96cee3\n",
       "Name: trans_num, Length: 555719, dtype: object"
      ]
     },
     "execution_count": 21,
     "metadata": {},
     "output_type": "execute_result"
    }
   ],
   "source": [
    "CreditData.pop('trans_num')"
   ]
  },
  {
   "cell_type": "code",
   "execution_count": 22,
   "id": "a5dc9d6c-ab22-4eb8-ab83-63c5416555bd",
   "metadata": {},
   "outputs": [
    {
     "data": {
      "text/plain": [
       "0         SC\n",
       "1         UT\n",
       "2         NY\n",
       "3         FL\n",
       "4         MI\n",
       "          ..\n",
       "555714    MO\n",
       "555715    TX\n",
       "555716    WA\n",
       "555717    ID\n",
       "555718    OK\n",
       "Name: state, Length: 555719, dtype: object"
      ]
     },
     "execution_count": 22,
     "metadata": {},
     "output_type": "execute_result"
    }
   ],
   "source": [
    "CreditData.pop('state')"
   ]
  },
  {
   "cell_type": "code",
   "execution_count": 25,
   "id": "e8af6c8c-474c-450e-97fd-a69ca01a794e",
   "metadata": {},
   "outputs": [
    {
     "data": {
      "text/plain": [
       "0                        fraud_Kirlin and Sons\n",
       "1                         fraud_Sporer-Keebler\n",
       "2         fraud_Swaniawski, Nitzsche and Welch\n",
       "3                            fraud_Haley Group\n",
       "4                        fraud_Johnston-Casper\n",
       "                          ...                 \n",
       "555714                   fraud_Reilly and Sons\n",
       "555715                    fraud_Hoppe-Parisian\n",
       "555716                         fraud_Rau-Robel\n",
       "555717                   fraud_Breitenberg LLC\n",
       "555718                       fraud_Dare-Marvin\n",
       "Name: merchant, Length: 555719, dtype: object"
      ]
     },
     "execution_count": 25,
     "metadata": {},
     "output_type": "execute_result"
    }
   ],
   "source": [
    "CreditData.pop('merchant')"
   ]
  },
  {
   "cell_type": "code",
   "execution_count": 26,
   "id": "21a17e7e-6351-4c6d-9562-a95bf282df66",
   "metadata": {},
   "outputs": [
    {
     "data": {
      "text/plain": [
       "0          personal_care\n",
       "1          personal_care\n",
       "2         health_fitness\n",
       "3               misc_pos\n",
       "4                 travel\n",
       "               ...      \n",
       "555714    health_fitness\n",
       "555715         kids_pets\n",
       "555716         kids_pets\n",
       "555717            travel\n",
       "555718     entertainment\n",
       "Name: category, Length: 555719, dtype: object"
      ]
     },
     "execution_count": 26,
     "metadata": {},
     "output_type": "execute_result"
    }
   ],
   "source": [
    "CreditData.pop('category')"
   ]
  },
  {
   "cell_type": "code",
   "execution_count": 27,
   "id": "e50a033c-5a14-4802-876c-f2d5129a6bb5",
   "metadata": {},
   "outputs": [
    {
     "data": {
      "text/plain": [
       "0            Jeff\n",
       "1          Joanne\n",
       "2          Ashley\n",
       "3           Brian\n",
       "4          Nathan\n",
       "           ...   \n",
       "555714    Michael\n",
       "555715       Jose\n",
       "555716        Ann\n",
       "555717       Eric\n",
       "555718     Samuel\n",
       "Name: first, Length: 555719, dtype: object"
      ]
     },
     "execution_count": 27,
     "metadata": {},
     "output_type": "execute_result"
    }
   ],
   "source": [
    "CreditData.pop('first')"
   ]
  },
  {
   "cell_type": "code",
   "execution_count": 28,
   "id": "9d4eafe9-2928-4bd9-9395-48e98c30c5b3",
   "metadata": {},
   "outputs": [
    {
     "data": {
      "text/plain": [
       "0          Elliott\n",
       "1         Williams\n",
       "2            Lopez\n",
       "3         Williams\n",
       "4           Massey\n",
       "            ...   \n",
       "555714       Olson\n",
       "555715     Vasquez\n",
       "555716      Lawson\n",
       "555717     Preston\n",
       "555718        Frey\n",
       "Name: last, Length: 555719, dtype: object"
      ]
     },
     "execution_count": 28,
     "metadata": {},
     "output_type": "execute_result"
    }
   ],
   "source": [
    "CreditData.pop('last')"
   ]
  },
  {
   "cell_type": "code",
   "execution_count": 29,
   "id": "835831b6-2c8b-4166-aec3-ed61b2967baa",
   "metadata": {},
   "outputs": [
    {
     "data": {
      "text/html": [
       "<div>\n",
       "<style scoped>\n",
       "    .dataframe tbody tr th:only-of-type {\n",
       "        vertical-align: middle;\n",
       "    }\n",
       "\n",
       "    .dataframe tbody tr th {\n",
       "        vertical-align: top;\n",
       "    }\n",
       "\n",
       "    .dataframe thead th {\n",
       "        text-align: right;\n",
       "    }\n",
       "</style>\n",
       "<table border=\"1\" class=\"dataframe\">\n",
       "  <thead>\n",
       "    <tr style=\"text-align: right;\">\n",
       "      <th></th>\n",
       "      <th>Unnamed: 0</th>\n",
       "      <th>cc_num</th>\n",
       "      <th>amt</th>\n",
       "      <th>zip</th>\n",
       "      <th>lat</th>\n",
       "      <th>long</th>\n",
       "      <th>city_pop</th>\n",
       "      <th>unix_time</th>\n",
       "      <th>merch_lat</th>\n",
       "      <th>merch_long</th>\n",
       "      <th>is_fraud</th>\n",
       "    </tr>\n",
       "  </thead>\n",
       "  <tbody>\n",
       "    <tr>\n",
       "      <th>0</th>\n",
       "      <td>0</td>\n",
       "      <td>2291163933867244</td>\n",
       "      <td>2.86</td>\n",
       "      <td>29209</td>\n",
       "      <td>33.9659</td>\n",
       "      <td>-80.9355</td>\n",
       "      <td>333497</td>\n",
       "      <td>1371816865</td>\n",
       "      <td>33.986391</td>\n",
       "      <td>-81.200714</td>\n",
       "      <td>0</td>\n",
       "    </tr>\n",
       "    <tr>\n",
       "      <th>1</th>\n",
       "      <td>1</td>\n",
       "      <td>3573030041201292</td>\n",
       "      <td>29.84</td>\n",
       "      <td>84002</td>\n",
       "      <td>40.3207</td>\n",
       "      <td>-110.4360</td>\n",
       "      <td>302</td>\n",
       "      <td>1371816873</td>\n",
       "      <td>39.450498</td>\n",
       "      <td>-109.960431</td>\n",
       "      <td>0</td>\n",
       "    </tr>\n",
       "    <tr>\n",
       "      <th>2</th>\n",
       "      <td>2</td>\n",
       "      <td>3598215285024754</td>\n",
       "      <td>41.28</td>\n",
       "      <td>11710</td>\n",
       "      <td>40.6729</td>\n",
       "      <td>-73.5365</td>\n",
       "      <td>34496</td>\n",
       "      <td>1371816893</td>\n",
       "      <td>40.495810</td>\n",
       "      <td>-74.196111</td>\n",
       "      <td>0</td>\n",
       "    </tr>\n",
       "    <tr>\n",
       "      <th>3</th>\n",
       "      <td>3</td>\n",
       "      <td>3591919803438423</td>\n",
       "      <td>60.05</td>\n",
       "      <td>32780</td>\n",
       "      <td>28.5697</td>\n",
       "      <td>-80.8191</td>\n",
       "      <td>54767</td>\n",
       "      <td>1371816915</td>\n",
       "      <td>28.812398</td>\n",
       "      <td>-80.883061</td>\n",
       "      <td>0</td>\n",
       "    </tr>\n",
       "    <tr>\n",
       "      <th>4</th>\n",
       "      <td>4</td>\n",
       "      <td>3526826139003047</td>\n",
       "      <td>3.19</td>\n",
       "      <td>49632</td>\n",
       "      <td>44.2529</td>\n",
       "      <td>-85.0170</td>\n",
       "      <td>1126</td>\n",
       "      <td>1371816917</td>\n",
       "      <td>44.959148</td>\n",
       "      <td>-85.884734</td>\n",
       "      <td>0</td>\n",
       "    </tr>\n",
       "  </tbody>\n",
       "</table>\n",
       "</div>"
      ],
      "text/plain": [
       "   Unnamed: 0            cc_num    amt    zip      lat      long  city_pop  \\\n",
       "0           0  2291163933867244   2.86  29209  33.9659  -80.9355    333497   \n",
       "1           1  3573030041201292  29.84  84002  40.3207 -110.4360       302   \n",
       "2           2  3598215285024754  41.28  11710  40.6729  -73.5365     34496   \n",
       "3           3  3591919803438423  60.05  32780  28.5697  -80.8191     54767   \n",
       "4           4  3526826139003047   3.19  49632  44.2529  -85.0170      1126   \n",
       "\n",
       "    unix_time  merch_lat  merch_long  is_fraud  \n",
       "0  1371816865  33.986391  -81.200714         0  \n",
       "1  1371816873  39.450498 -109.960431         0  \n",
       "2  1371816893  40.495810  -74.196111         0  \n",
       "3  1371816915  28.812398  -80.883061         0  \n",
       "4  1371816917  44.959148  -85.884734         0  "
      ]
     },
     "execution_count": 29,
     "metadata": {},
     "output_type": "execute_result"
    }
   ],
   "source": [
    "CreditData.head()"
   ]
  },
  {
   "cell_type": "code",
   "execution_count": 30,
   "id": "b8e928a0-1388-4303-bbb9-cc489d5b579c",
   "metadata": {},
   "outputs": [],
   "source": [
    "Normalized_Data=preprocessing.normalize(CreditData)"
   ]
  },
  {
   "cell_type": "code",
   "execution_count": 31,
   "id": "ab409960-134a-468c-ade7-4900b04ee814",
   "metadata": {},
   "outputs": [
    {
     "name": "stdout",
     "output_type": "stream",
     "text": [
      "[[ 0.00000000e+00  1.00000000e+00  1.24827384e-15 ...  1.48336793e-14\n",
      "  -3.54408136e-14  0.00000000e+00]\n",
      " [ 2.79874501e-16  1.00000000e+00  8.35145511e-15 ...  1.10411884e-14\n",
      "  -3.07751208e-14  0.00000000e+00]\n",
      " [ 5.55831111e-16  1.00000000e+00  1.14723541e-14 ...  1.12544155e-14\n",
      "  -2.06202534e-14  0.00000000e+00]\n",
      " ...\n",
      " [ 9.24387009e-11  1.00000000e+00  1.44517601e-14 ...  7.76122396e-15\n",
      "  -1.99135963e-14  0.00000000e+00]\n",
      " [ 1.36212688e-07  9.99999942e-01  1.95844175e-12 ...  1.09002419e-11\n",
      "  -2.86978848e-11  0.00000000e+00]\n",
      " [ 1.33243680e-10  1.00000000e+00  9.14237350e-15 ...  8.68204121e-15\n",
      "  -2.32662669e-14  0.00000000e+00]]\n"
     ]
    }
   ],
   "source": [
    "print(Normalized_Data)"
   ]
  },
  {
   "cell_type": "code",
   "execution_count": 32,
   "id": "02e04f48-fc18-4974-9b99-13acee1feb96",
   "metadata": {},
   "outputs": [
    {
     "data": {
      "image/png": "[encoded data removed]",
      "text/plain": [
       "<Figure size 1200x900 with 2 Axes>"
      ]
     },
     "metadata": {},
     "output_type": "display_data"
    }
   ],
   "source": [
    "# Correlation matrix\n",
    "corrmat = CreditData.corr()\n",
    "fig = plt.figure(figsize = (12, 9))\n",
    "sns.heatmap(corrmat, vmax = .8, square = True)\n",
    "plt.show()"
   ]
  },
  {
   "cell_type": "code",
   "execution_count": 36,
   "id": "e7d9be7a-8212-4a6f-a685-fa433030aa8c",
   "metadata": {},
   "outputs": [],
   "source": [
    "X= CreditData.drop(columns='is_fraud',axis=1)"
   ]
  },
  {
   "cell_type": "code",
   "execution_count": 37,
   "id": "749e7267-74c2-401e-a109-511acfcb785a",
   "metadata": {},
   "outputs": [],
   "source": [
    "Y= CreditData['is_fraud']"
   ]
  },
  {
   "cell_type": "code",
   "execution_count": 38,
   "id": "4cc20450-2ff3-4e35-a11f-68f3e100ef91",
   "metadata": {},
   "outputs": [
    {
     "name": "stdout",
     "output_type": "stream",
     "text": [
      "        Unnamed: 0            cc_num     amt    zip      lat      long  \\\n",
      "0                0  2291163933867244    2.86  29209  33.9659  -80.9355   \n",
      "1                1  3573030041201292   29.84  84002  40.3207 -110.4360   \n",
      "2                2  3598215285024754   41.28  11710  40.6729  -73.5365   \n",
      "3                3  3591919803438423   60.05  32780  28.5697  -80.8191   \n",
      "4                4  3526826139003047    3.19  49632  44.2529  -85.0170   \n",
      "...            ...               ...     ...    ...      ...       ...   \n",
      "555714      555714    30560609640617   43.77  63453  40.4931  -91.8912   \n",
      "555715      555715  3556613125071656  111.84  77566  29.0393  -95.4401   \n",
      "555716      555716  6011724471098086   86.88  99323  46.1966 -118.9017   \n",
      "555717      555717     4079773899158    7.99  83643  44.6255 -116.4493   \n",
      "555718      555718  4170689372027579   38.13  73034  35.6665  -97.4798   \n",
      "\n",
      "        city_pop   unix_time  merch_lat  merch_long  \n",
      "0         333497  1371816865  33.986391  -81.200714  \n",
      "1            302  1371816873  39.450498 -109.960431  \n",
      "2          34496  1371816893  40.495810  -74.196111  \n",
      "3          54767  1371816915  28.812398  -80.883061  \n",
      "4           1126  1371816917  44.959148  -85.884734  \n",
      "...          ...         ...        ...         ...  \n",
      "555714       519  1388534347  39.946837  -91.333331  \n",
      "555715     28739  1388534349  29.661049  -96.186633  \n",
      "555716      3684  1388534355  46.658340 -119.715054  \n",
      "555717       129  1388534364  44.470525 -117.080888  \n",
      "555718    116001  1388534374  36.210097  -97.036372  \n",
      "\n",
      "[555719 rows x 10 columns]\n"
     ]
    }
   ],
   "source": [
    "print(X)"
   ]
  },
  {
   "cell_type": "code",
   "execution_count": 39,
   "id": "05f9e1a7-8977-4e47-a88a-f1390d1f6519",
   "metadata": {},
   "outputs": [
    {
     "name": "stdout",
     "output_type": "stream",
     "text": [
      "0         0\n",
      "1         0\n",
      "2         0\n",
      "3         0\n",
      "4         0\n",
      "         ..\n",
      "555714    0\n",
      "555715    0\n",
      "555716    0\n",
      "555717    0\n",
      "555718    0\n",
      "Name: is_fraud, Length: 555719, dtype: int64\n"
     ]
    }
   ],
   "source": [
    "print(Y)"
   ]
  },
  {
   "cell_type": "code",
   "execution_count": 40,
   "id": "a6a59d1a-765f-467c-b1d7-43298f1ba8c3",
   "metadata": {},
   "outputs": [],
   "source": [
    "###Splitting the data into training and testing data"
   ]
  },
  {
   "cell_type": "code",
   "execution_count": 41,
   "id": "e6823c44-9152-4ff0-9b42-d53d08c10d7e",
   "metadata": {},
   "outputs": [],
   "source": [
    "X_Train, X_Test, Y_Train, Y_Test = train_test_split(X, Y, test_size = 0.2, random_state = 2, stratify=Y)"
   ]
  },
  {
   "cell_type": "code",
   "execution_count": 42,
   "id": "c129d891-c889-4c63-bf50-b24de49fb4ba",
   "metadata": {},
   "outputs": [
    {
     "name": "stdout",
     "output_type": "stream",
     "text": [
      "(555719, 10) (444575, 10) (111144, 10)\n"
     ]
    }
   ],
   "source": [
    "print(X.shape, X_Train.shape, X_Test.shape)"
   ]
  },
  {
   "cell_type": "code",
   "execution_count": 43,
   "id": "4943a006-ec94-4afa-b4ff-7a7c1e34c1ec",
   "metadata": {},
   "outputs": [],
   "source": [
    "###Model Training "
   ]
  },
  {
   "cell_type": "code",
   "execution_count": 44,
   "id": "0ea8eca0-846d-441d-a354-208c0d06a73c",
   "metadata": {},
   "outputs": [],
   "source": [
    "###Using Logistic Regression"
   ]
  },
  {
   "cell_type": "code",
   "execution_count": 45,
   "id": "151dc4fa-7c2d-4ab9-9a65-87ab1d37f2f1",
   "metadata": {},
   "outputs": [],
   "source": [
    "model= LogisticRegression()"
   ]
  },
  {
   "cell_type": "code",
   "execution_count": 46,
   "id": "5d299670-6bec-41c4-a3c2-ed96bbe81600",
   "metadata": {},
   "outputs": [
    {
     "name": "stderr",
     "output_type": "stream",
     "text": [
      "C:\\Users\\anshi\\anaconda3\\Lib\\site-packages\\sklearn\\linear_model\\_logistic.py:460: ConvergenceWarning: lbfgs failed to converge (status=2):\n",
      "ABNORMAL_TERMINATION_IN_LNSRCH.\n",
      "\n",
      "Increase the number of iterations (max_iter) or scale the data as shown in:\n",
      "    https://scikit-learn.org/stable/modules/preprocessing.html\n",
      "Please also refer to the documentation for alternative solver options:\n",
      "    https://scikit-learn.org/stable/modules/linear_model.html#logistic-regression\n",
      "  n_iter_i = _check_optimize_result(\n"
     ]
    },
    {
     "data": {
      "text/html": [
       "<style>#sk-container-id-1 {color: black;}#sk-container-id-1 pre{padding: 0;}#sk-container-id-1 div.sk-toggleable {background-color: white;}#sk-container-id-1 label.sk-toggleable__label {cursor: pointer;display: block;width: 100%;margin-bottom: 0;padding: 0.3em;box-sizing: border-box;text-align: center;}#sk-container-id-1 label.sk-toggleable__label-arrow:before {content: \"▸\";float: left;margin-right: 0.25em;color: #696969;}#sk-container-id-1 label.sk-toggleable__label-arrow:hover:before {color: black;}#sk-container-id-1 div.sk-estimator:hover label.sk-toggleable__label-arrow:before {color: black;}#sk-container-id-1 div.sk-toggleable__content {max-height: 0;max-width: 0;overflow: hidden;text-align: left;background-color: #f0f8ff;}#sk-container-id-1 div.sk-toggleable__content pre {margin: 0.2em;color: black;border-radius: 0.25em;background-color: #f0f8ff;}#sk-container-id-1 input.sk-toggleable__control:checked~div.sk-toggleable__content {max-height: 200px;max-width: 100%;overflow: auto;}#sk-container-id-1 input.sk-toggleable__control:checked~label.sk-toggleable__label-arrow:before {content: \"▾\";}#sk-container-id-1 div.sk-estimator input.sk-toggleable__control:checked~label.sk-toggleable__label {background-color: #d4ebff;}#sk-container-id-1 div.sk-label input.sk-toggleable__control:checked~label.sk-toggleable__label {background-color: #d4ebff;}#sk-container-id-1 input.sk-hidden--visually {border: 0;clip: rect(1px 1px 1px 1px);clip: rect(1px, 1px, 1px, 1px);height: 1px;margin: -1px;overflow: hidden;padding: 0;position: absolute;width: 1px;}#sk-container-id-1 div.sk-estimator {font-family: monospace;background-color: #f0f8ff;border: 1px dotted black;border-radius: 0.25em;box-sizing: border-box;margin-bottom: 0.5em;}#sk-container-id-1 div.sk-estimator:hover {background-color: #d4ebff;}#sk-container-id-1 div.sk-parallel-item::after {content: \"\";width: 100%;border-bottom: 1px solid gray;flex-grow: 1;}#sk-container-id-1 div.sk-label:hover label.sk-toggleable__label {background-color: #d4ebff;}#sk-container-id-1 div.sk-serial::before {content: \"\";position: absolute;border-left: 1px solid gray;box-sizing: border-box;top: 0;bottom: 0;left: 50%;z-index: 0;}#sk-container-id-1 div.sk-serial {display: flex;flex-direction: column;align-items: center;background-color: white;padding-right: 0.2em;padding-left: 0.2em;position: relative;}#sk-container-id-1 div.sk-item {position: relative;z-index: 1;}#sk-container-id-1 div.sk-parallel {display: flex;align-items: stretch;justify-content: center;background-color: white;position: relative;}#sk-container-id-1 div.sk-item::before, #sk-container-id-1 div.sk-parallel-item::before {content: \"\";position: absolute;border-left: 1px solid gray;box-sizing: border-box;top: 0;bottom: 0;left: 50%;z-index: -1;}#sk-container-id-1 div.sk-parallel-item {display: flex;flex-direction: column;z-index: 1;position: relative;background-color: white;}#sk-container-id-1 div.sk-parallel-item:first-child::after {align-self: flex-end;width: 50%;}#sk-container-id-1 div.sk-parallel-item:last-child::after {align-self: flex-start;width: 50%;}#sk-container-id-1 div.sk-parallel-item:only-child::after {width: 0;}#sk-container-id-1 div.sk-dashed-wrapped {border: 1px dashed gray;margin: 0 0.4em 0.5em 0.4em;box-sizing: border-box;padding-bottom: 0.4em;background-color: white;}#sk-container-id-1 div.sk-label label {font-family: monospace;font-weight: bold;display: inline-block;line-height: 1.2em;}#sk-container-id-1 div.sk-label-container {text-align: center;}#sk-container-id-1 div.sk-container {/* jupyter's `normalize.less` sets `[hidden] { display: none; }` but bootstrap.min.css set `[hidden] { display: none !important; }` so we also need the `!important` here to be able to override the default hidden behavior on the sphinx rendered scikit-learn.org. See: https://github.com/scikit-learn/scikit-learn/issues/21755 */display: inline-block !important;position: relative;}#sk-container-id-1 div.sk-text-repr-fallback {display: none;}</style><div id=\"sk-container-id-1\" class=\"sk-top-container\"><div class=\"sk-text-repr-fallback\"><pre>LogisticRegression()</pre><b>In a Jupyter environment, please rerun this cell to show the HTML representation or trust the notebook. <br />On GitHub, the HTML representation is unable to render, please try loading this page with nbviewer.org.</b></div><div class=\"sk-container\" hidden><div class=\"sk-item\"><div class=\"sk-estimator sk-toggleable\"><input class=\"sk-toggleable__control sk-hidden--visually\" id=\"sk-estimator-id-1\" type=\"checkbox\" checked><label for=\"sk-estimator-id-1\" class=\"sk-toggleable__label sk-toggleable__label-arrow\">LogisticRegression</label><div class=\"sk-toggleable__content\"><pre>LogisticRegression()</pre></div></div></div></div></div>"
      ],
      "text/plain": [
       "LogisticRegression()"
      ]
     },
     "execution_count": 46,
     "metadata": {},
     "output_type": "execute_result"
    }
   ],
   "source": [
    "model.fit(X_Train, Y_Train)"
   ]
  },
  {
   "cell_type": "code",
   "execution_count": 47,
   "id": "5b04a5d2-b36d-4792-a7c4-46f3e6a1eb66",
   "metadata": {},
   "outputs": [],
   "source": [
    "#Accuracy on Training Data\n",
    "X_Train_Prediction= model.predict(X_Train)"
   ]
  },
  {
   "cell_type": "code",
   "execution_count": 48,
   "id": "289a31ec-847e-49b5-be67-18443869d35e",
   "metadata": {},
   "outputs": [],
   "source": [
    "Training_Data_Accuracy=accuracy_score(X_Train_Prediction, Y_Train)"
   ]
  },
  {
   "cell_type": "code",
   "execution_count": 49,
   "id": "c2e70744-5aa5-4153-bd51-d986dd457d6a",
   "metadata": {},
   "outputs": [
    {
     "name": "stdout",
     "output_type": "stream",
     "text": [
      "Accuracy of the model is:  0.9961401338356858\n"
     ]
    }
   ],
   "source": [
    "print(\"Accuracy of the model is: \", Training_Data_Accuracy)"
   ]
  },
  {
   "cell_type": "code",
   "execution_count": 50,
   "id": "d0398122-65f9-42cf-9c3e-dea6cee2a5fe",
   "metadata": {},
   "outputs": [],
   "source": [
    "# Accuracy on Test Data\n",
    "X_Test_Prediction= model.predict(X_Test)"
   ]
  },
  {
   "cell_type": "code",
   "execution_count": 51,
   "id": "69792c75-b540-4277-8fa4-5240f5c4140e",
   "metadata": {},
   "outputs": [],
   "source": [
    "Test_Data_Accuracy= accuracy_score(X_Test_Prediction,Y_Test)"
   ]
  },
  {
   "cell_type": "code",
   "execution_count": 52,
   "id": "b71f8062-8f0e-430d-b6f2-8ed066dc9de0",
   "metadata": {},
   "outputs": [
    {
     "name": "stdout",
     "output_type": "stream",
     "text": [
      "Accuracy of the Test Data is:  0.9961401425178147\n"
     ]
    }
   ],
   "source": [
    "print(\"Accuracy of the Test Data is: \", Test_Data_Accuracy)"
   ]
  },
  {
   "cell_type": "code",
   "execution_count": 53,
   "id": "74267b5d-7e35-42ae-b377-ca63d510b725",
   "metadata": {},
   "outputs": [],
   "source": [
    "### Building a Random Forest Model using scikit learn"
   ]
  },
  {
   "cell_type": "code",
   "execution_count": 54,
   "id": "422ae2c8-21df-4d33-8941-a89668bf10b4",
   "metadata": {},
   "outputs": [],
   "source": [
    "rfc = RandomForestClassifier()\n",
    "rfc.fit(X_Train, Y_Train)\n",
    "yPred = rfc.predict(X_Test)"
   ]
  },
  {
   "cell_type": "code",
   "execution_count": 57,
   "id": "3767c4f6-e8ef-47a7-9d92-acb4cdb241fb",
   "metadata": {},
   "outputs": [
    {
     "name": "stdout",
     "output_type": "stream",
     "text": [
      "The accuracy is 0.9975887137407328\n",
      "The precision is 0.8577777777777778\n"
     ]
    }
   ],
   "source": [
    "acc = accuracy_score(Y_Test, yPred)\n",
    "print(\"The accuracy is {}\".format(acc))\n",
    "  \n",
    "prec = precision_score(Y_Test, yPred)\n",
    "print(\"The precision is {}\".format(prec))"
   ]
  }
 ],
 "metadata": {
  "kernelspec": {
   "display_name": "Python 3 (ipykernel)",
   "language": "python",
   "name": "python3"
  },
  "language_info": {
   "codemirror_mode": {
    "name": "ipython",
    "version": 3
   },
   "file_extension": ".py",
   "mimetype": "text/x-python",
   "name": "python",
   "nbconvert_exporter": "python",
   "pygments_lexer": "ipython3",
   "version": "3.11.5"
  }
 },
 "nbformat": 4,
 "nbformat_minor": 5
}
